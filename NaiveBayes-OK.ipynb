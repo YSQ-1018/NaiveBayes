{
 "cells": [
  {
   "cell_type": "markdown",
   "metadata": {},
   "source": [
    "# Naive Bayes On Wisconsin Diagnostic Breast Cancer Dataset"
   ]
  },
  {
   "cell_type": "code",
   "execution_count": 5,
   "metadata": {},
   "outputs": [],
   "source": [
    "import pandas as pd #读csv\n",
    "import numpy as np\n",
    "import matplotlib.pyplot as plt\n",
    "import math"
   ]
  },
  {
   "cell_type": "markdown",
   "metadata": {},
   "source": [
    "## 读取数据"
   ]
  },
  {
   "cell_type": "code",
   "execution_count": 6,
   "metadata": {},
   "outputs": [],
   "source": [
    "df = pd.read_csv('/home/ysq/桌面/BreastCancer/wdbc.data',header=None)"
   ]
  },
  {
   "cell_type": "code",
   "execution_count": 7,
   "metadata": {},
   "outputs": [
    {
     "name": "stdout",
     "output_type": "stream",
     "text": [
      "<class 'pandas.core.frame.DataFrame'>\n",
      "RangeIndex: 569 entries, 0 to 568\n",
      "Data columns (total 32 columns):\n",
      "0     569 non-null int64\n",
      "1     569 non-null object\n",
      "2     569 non-null float64\n",
      "3     569 non-null float64\n",
      "4     569 non-null float64\n",
      "5     569 non-null float64\n",
      "6     569 non-null float64\n",
      "7     569 non-null float64\n",
      "8     569 non-null float64\n",
      "9     569 non-null float64\n",
      "10    569 non-null float64\n",
      "11    569 non-null float64\n",
      "12    569 non-null float64\n",
      "13    569 non-null float64\n",
      "14    569 non-null float64\n",
      "15    569 non-null float64\n",
      "16    569 non-null float64\n",
      "17    569 non-null float64\n",
      "18    569 non-null float64\n",
      "19    569 non-null float64\n",
      "20    569 non-null float64\n",
      "21    569 non-null float64\n",
      "22    569 non-null float64\n",
      "23    569 non-null float64\n",
      "24    569 non-null float64\n",
      "25    569 non-null float64\n",
      "26    569 non-null float64\n",
      "27    569 non-null float64\n",
      "28    569 non-null float64\n",
      "29    569 non-null float64\n",
      "30    569 non-null float64\n",
      "31    569 non-null float64\n",
      "dtypes: float64(30), int64(1), object(1)\n",
      "memory usage: 142.3+ KB\n"
     ]
    }
   ],
   "source": [
    "df.info()"
   ]
  },
  {
   "cell_type": "markdown",
   "metadata": {},
   "source": [
    "### df.info()返回了数据集的摘要，可以看出：\n",
    "- 数据集为569*31的矩阵，即有569条数据，每条数据有31个属性\n",
    "- 属性0为每个样本的唯一ID，这个属性在分类时用不到，可以删除\n",
    "- 属性1为非数值型数据，是每个数据为良性或恶性的标记，可作为分类的真值\n",
    "- 属性2~31为数值型数据，这些属性将作为我们分类时用到的属性，可以认为一个数据是否为良性或恶性由这些属性决定\n",
    "- 该数据集中没有缺失值"
   ]
  },
  {
   "cell_type": "markdown",
   "metadata": {},
   "source": [
    "## 数据预处理\n",
    "- 删除ID列，即第0列\n",
    "- 对2~31列的数据标准化处理\n",
    "- 为标签编码\n",
    "- 增广矩阵：添加一个全1列为偏置做准备"
   ]
  },
  {
   "cell_type": "code",
   "execution_count": 8,
   "metadata": {},
   "outputs": [
    {
     "name": "stdout",
     "output_type": "stream",
     "text": [
      "(569, 31)\n",
      "删除成功\n"
     ]
    }
   ],
   "source": [
    "#df = df[~df[0].isin([911296202,865423,8610862])]\n",
    "#删除第0列\n",
    "df_ = df.drop(df.columns[0],axis=1)\n",
    "print(df_.shape) #显示是否删除成功\n",
    "if df_.shape[1] == df.shape[1]-1:\n",
    "    print(\"删除成功\")"
   ]
  },
  {
   "cell_type": "code",
   "execution_count": 9,
   "metadata": {},
   "outputs": [
    {
     "data": {
      "text/html": [
       "<div>\n",
       "<style scoped>\n",
       "    .dataframe tbody tr th:only-of-type {\n",
       "        vertical-align: middle;\n",
       "    }\n",
       "\n",
       "    .dataframe tbody tr th {\n",
       "        vertical-align: top;\n",
       "    }\n",
       "\n",
       "    .dataframe thead th {\n",
       "        text-align: right;\n",
       "    }\n",
       "</style>\n",
       "<table border=\"1\" class=\"dataframe\">\n",
       "  <thead>\n",
       "    <tr style=\"text-align: right;\">\n",
       "      <th></th>\n",
       "      <th>1</th>\n",
       "      <th>2</th>\n",
       "      <th>3</th>\n",
       "      <th>4</th>\n",
       "      <th>5</th>\n",
       "      <th>6</th>\n",
       "      <th>7</th>\n",
       "      <th>8</th>\n",
       "      <th>9</th>\n",
       "      <th>10</th>\n",
       "      <th>...</th>\n",
       "      <th>22</th>\n",
       "      <th>23</th>\n",
       "      <th>24</th>\n",
       "      <th>25</th>\n",
       "      <th>26</th>\n",
       "      <th>27</th>\n",
       "      <th>28</th>\n",
       "      <th>29</th>\n",
       "      <th>30</th>\n",
       "      <th>31</th>\n",
       "    </tr>\n",
       "  </thead>\n",
       "  <tbody>\n",
       "    <tr>\n",
       "      <th>0</th>\n",
       "      <td>M</td>\n",
       "      <td>17.99</td>\n",
       "      <td>10.38</td>\n",
       "      <td>122.80</td>\n",
       "      <td>1001.0</td>\n",
       "      <td>0.11840</td>\n",
       "      <td>0.27760</td>\n",
       "      <td>0.3001</td>\n",
       "      <td>0.14710</td>\n",
       "      <td>0.2419</td>\n",
       "      <td>...</td>\n",
       "      <td>25.38</td>\n",
       "      <td>17.33</td>\n",
       "      <td>184.60</td>\n",
       "      <td>2019.0</td>\n",
       "      <td>0.1622</td>\n",
       "      <td>0.6656</td>\n",
       "      <td>0.7119</td>\n",
       "      <td>0.2654</td>\n",
       "      <td>0.4601</td>\n",
       "      <td>0.11890</td>\n",
       "    </tr>\n",
       "    <tr>\n",
       "      <th>1</th>\n",
       "      <td>M</td>\n",
       "      <td>20.57</td>\n",
       "      <td>17.77</td>\n",
       "      <td>132.90</td>\n",
       "      <td>1326.0</td>\n",
       "      <td>0.08474</td>\n",
       "      <td>0.07864</td>\n",
       "      <td>0.0869</td>\n",
       "      <td>0.07017</td>\n",
       "      <td>0.1812</td>\n",
       "      <td>...</td>\n",
       "      <td>24.99</td>\n",
       "      <td>23.41</td>\n",
       "      <td>158.80</td>\n",
       "      <td>1956.0</td>\n",
       "      <td>0.1238</td>\n",
       "      <td>0.1866</td>\n",
       "      <td>0.2416</td>\n",
       "      <td>0.1860</td>\n",
       "      <td>0.2750</td>\n",
       "      <td>0.08902</td>\n",
       "    </tr>\n",
       "    <tr>\n",
       "      <th>2</th>\n",
       "      <td>M</td>\n",
       "      <td>19.69</td>\n",
       "      <td>21.25</td>\n",
       "      <td>130.00</td>\n",
       "      <td>1203.0</td>\n",
       "      <td>0.10960</td>\n",
       "      <td>0.15990</td>\n",
       "      <td>0.1974</td>\n",
       "      <td>0.12790</td>\n",
       "      <td>0.2069</td>\n",
       "      <td>...</td>\n",
       "      <td>23.57</td>\n",
       "      <td>25.53</td>\n",
       "      <td>152.50</td>\n",
       "      <td>1709.0</td>\n",
       "      <td>0.1444</td>\n",
       "      <td>0.4245</td>\n",
       "      <td>0.4504</td>\n",
       "      <td>0.2430</td>\n",
       "      <td>0.3613</td>\n",
       "      <td>0.08758</td>\n",
       "    </tr>\n",
       "    <tr>\n",
       "      <th>3</th>\n",
       "      <td>M</td>\n",
       "      <td>11.42</td>\n",
       "      <td>20.38</td>\n",
       "      <td>77.58</td>\n",
       "      <td>386.1</td>\n",
       "      <td>0.14250</td>\n",
       "      <td>0.28390</td>\n",
       "      <td>0.2414</td>\n",
       "      <td>0.10520</td>\n",
       "      <td>0.2597</td>\n",
       "      <td>...</td>\n",
       "      <td>14.91</td>\n",
       "      <td>26.50</td>\n",
       "      <td>98.87</td>\n",
       "      <td>567.7</td>\n",
       "      <td>0.2098</td>\n",
       "      <td>0.8663</td>\n",
       "      <td>0.6869</td>\n",
       "      <td>0.2575</td>\n",
       "      <td>0.6638</td>\n",
       "      <td>0.17300</td>\n",
       "    </tr>\n",
       "    <tr>\n",
       "      <th>4</th>\n",
       "      <td>M</td>\n",
       "      <td>20.29</td>\n",
       "      <td>14.34</td>\n",
       "      <td>135.10</td>\n",
       "      <td>1297.0</td>\n",
       "      <td>0.10030</td>\n",
       "      <td>0.13280</td>\n",
       "      <td>0.1980</td>\n",
       "      <td>0.10430</td>\n",
       "      <td>0.1809</td>\n",
       "      <td>...</td>\n",
       "      <td>22.54</td>\n",
       "      <td>16.67</td>\n",
       "      <td>152.20</td>\n",
       "      <td>1575.0</td>\n",
       "      <td>0.1374</td>\n",
       "      <td>0.2050</td>\n",
       "      <td>0.4000</td>\n",
       "      <td>0.1625</td>\n",
       "      <td>0.2364</td>\n",
       "      <td>0.07678</td>\n",
       "    </tr>\n",
       "  </tbody>\n",
       "</table>\n",
       "<p>5 rows × 31 columns</p>\n",
       "</div>"
      ],
      "text/plain": [
       "  1      2      3       4       5        6        7       8        9       10  \\\n",
       "0  M  17.99  10.38  122.80  1001.0  0.11840  0.27760  0.3001  0.14710  0.2419   \n",
       "1  M  20.57  17.77  132.90  1326.0  0.08474  0.07864  0.0869  0.07017  0.1812   \n",
       "2  M  19.69  21.25  130.00  1203.0  0.10960  0.15990  0.1974  0.12790  0.2069   \n",
       "3  M  11.42  20.38   77.58   386.1  0.14250  0.28390  0.2414  0.10520  0.2597   \n",
       "4  M  20.29  14.34  135.10  1297.0  0.10030  0.13280  0.1980  0.10430  0.1809   \n",
       "\n",
       "    ...        22     23      24      25      26      27      28      29  \\\n",
       "0   ...     25.38  17.33  184.60  2019.0  0.1622  0.6656  0.7119  0.2654   \n",
       "1   ...     24.99  23.41  158.80  1956.0  0.1238  0.1866  0.2416  0.1860   \n",
       "2   ...     23.57  25.53  152.50  1709.0  0.1444  0.4245  0.4504  0.2430   \n",
       "3   ...     14.91  26.50   98.87   567.7  0.2098  0.8663  0.6869  0.2575   \n",
       "4   ...     22.54  16.67  152.20  1575.0  0.1374  0.2050  0.4000  0.1625   \n",
       "\n",
       "       30       31  \n",
       "0  0.4601  0.11890  \n",
       "1  0.2750  0.08902  \n",
       "2  0.3613  0.08758  \n",
       "3  0.6638  0.17300  \n",
       "4  0.2364  0.07678  \n",
       "\n",
       "[5 rows x 31 columns]"
      ]
     },
     "execution_count": 9,
     "metadata": {},
     "output_type": "execute_result"
    }
   ],
   "source": [
    "df_.head() #查看当前数据"
   ]
  },
  {
   "cell_type": "code",
   "execution_count": 10,
   "metadata": {},
   "outputs": [
    {
     "data": {
      "text/plain": [
       "(569, 30)"
      ]
     },
     "execution_count": 10,
     "metadata": {},
     "output_type": "execute_result"
    }
   ],
   "source": [
    "#数据标准化\n",
    "from sklearn.preprocessing import StandardScaler\n",
    "scaler = StandardScaler()#实例化\n",
    "df_tmp = df_.drop(df.columns[1],axis=1)\n",
    "std = scaler.fit_transform(df_tmp) #ndarray\n",
    "#将ndarray转为dataframe\n",
    "df_std = pd.DataFrame(std)\n",
    "df_std.shape"
   ]
  },
  {
   "cell_type": "markdown",
   "metadata": {},
   "source": [
    "### 统计数据集中良性(benign)和恶性(malignant)的个数"
   ]
  },
  {
   "cell_type": "code",
   "execution_count": 11,
   "metadata": {},
   "outputs": [
    {
     "name": "stdout",
     "output_type": "stream",
     "text": [
      "['M', 'M', 'M', 'M', 'M', 'M', 'M', 'M', 'M', 'M', 'M', 'M', 'M', 'M', 'M', 'M', 'M', 'M', 'M', 'B', 'B', 'B', 'M', 'M', 'M', 'M', 'M', 'M', 'M', 'M', 'M', 'M', 'M', 'M', 'M', 'M', 'M', 'B', 'M', 'M', 'M', 'M', 'M', 'M', 'M', 'M', 'B', 'M', 'B', 'B', 'B', 'B', 'B', 'M', 'M', 'B', 'M', 'M', 'B', 'B', 'B', 'B', 'M', 'B', 'M', 'M', 'B', 'B', 'B', 'B', 'M', 'B', 'M', 'M', 'B', 'M', 'B', 'M', 'M', 'B', 'B', 'B', 'M', 'M', 'B', 'M', 'M', 'M', 'B', 'B', 'B', 'M', 'B', 'B', 'M', 'M', 'B', 'B', 'B', 'M', 'M', 'B', 'B', 'B', 'B', 'M', 'B', 'B', 'M', 'B', 'B', 'B', 'B', 'B', 'B', 'B', 'B', 'M', 'M', 'M', 'B', 'M', 'M', 'B', 'B', 'B', 'M', 'M', 'B', 'M', 'B', 'M', 'M', 'B', 'M', 'M', 'B', 'B', 'M', 'B', 'B', 'M', 'B', 'B', 'B', 'B', 'M', 'B', 'B', 'B', 'B', 'B', 'B', 'B', 'B', 'B', 'M', 'B', 'B', 'B', 'B', 'M', 'M', 'B', 'M', 'B', 'B', 'M', 'M', 'B', 'B', 'M', 'M', 'B', 'B', 'B', 'B', 'M', 'B', 'B', 'M', 'M', 'M', 'B', 'M', 'B', 'M', 'B', 'B', 'B', 'M', 'B', 'B', 'M', 'M', 'B', 'M', 'M', 'M', 'M', 'B', 'M', 'M', 'M', 'B', 'M', 'B', 'M', 'B', 'B', 'M', 'B', 'M', 'M', 'M', 'M', 'B', 'B', 'M', 'M', 'B', 'B', 'B', 'M', 'B', 'B', 'B', 'B', 'B', 'M', 'M', 'B', 'B', 'M', 'B', 'B', 'M', 'M', 'B', 'M', 'B', 'B', 'B', 'B', 'M', 'B', 'B', 'B', 'B', 'B', 'M', 'B', 'M', 'M', 'M', 'M', 'M', 'M', 'M', 'M', 'M', 'M', 'M', 'M', 'M', 'M', 'B', 'B', 'B', 'B', 'B', 'B', 'M', 'B', 'M', 'B', 'B', 'M', 'B', 'B', 'M', 'B', 'M', 'M', 'B', 'B', 'B', 'B', 'B', 'B', 'B', 'B', 'B', 'B', 'B', 'B', 'B', 'M', 'B', 'B', 'M', 'B', 'M', 'B', 'B', 'B', 'B', 'B', 'B', 'B', 'B', 'B', 'B', 'B', 'B', 'B', 'B', 'M', 'B', 'B', 'B', 'M', 'B', 'M', 'B', 'B', 'B', 'B', 'M', 'M', 'M', 'B', 'B', 'B', 'B', 'M', 'B', 'M', 'B', 'M', 'B', 'B', 'B', 'M', 'B', 'B', 'B', 'B', 'B', 'B', 'B', 'M', 'M', 'M', 'B', 'B', 'B', 'B', 'B', 'B', 'B', 'B', 'B', 'B', 'B', 'M', 'M', 'B', 'M', 'M', 'M', 'B', 'M', 'M', 'B', 'B', 'B', 'B', 'B', 'M', 'B', 'B', 'B', 'B', 'B', 'M', 'B', 'B', 'B', 'M', 'B', 'B', 'M', 'M', 'B', 'B', 'B', 'B', 'B', 'B', 'M', 'B', 'B', 'B', 'B', 'B', 'B', 'B', 'M', 'B', 'B', 'B', 'B', 'B', 'M', 'B', 'B', 'M', 'B', 'B', 'B', 'B', 'B', 'B', 'B', 'B', 'B', 'B', 'B', 'B', 'M', 'B', 'M', 'M', 'B', 'M', 'B', 'B', 'B', 'B', 'B', 'M', 'B', 'B', 'M', 'B', 'M', 'B', 'B', 'M', 'B', 'M', 'B', 'B', 'B', 'B', 'B', 'B', 'B', 'B', 'M', 'M', 'B', 'B', 'B', 'B', 'B', 'B', 'M', 'B', 'B', 'B', 'B', 'B', 'B', 'B', 'B', 'B', 'B', 'M', 'B', 'B', 'B', 'B', 'B', 'B', 'B', 'M', 'B', 'M', 'B', 'B', 'M', 'B', 'B', 'B', 'B', 'B', 'M', 'M', 'B', 'M', 'B', 'M', 'B', 'B', 'B', 'B', 'B', 'M', 'B', 'B', 'M', 'B', 'M', 'B', 'M', 'M', 'B', 'B', 'B', 'M', 'B', 'B', 'B', 'B', 'B', 'B', 'B', 'B', 'B', 'B', 'B', 'M', 'B', 'M', 'M', 'B', 'B', 'B', 'B', 'B', 'B', 'B', 'B', 'B', 'B', 'B', 'B', 'B', 'B', 'B', 'B', 'B', 'B', 'B', 'B', 'B', 'B', 'B', 'B', 'B', 'M', 'M', 'M', 'M', 'M', 'M', 'B']\n"
     ]
    }
   ],
   "source": [
    "label_list = df_[1].values.tolist() #将标签列转为列表\n",
    "dict(zip(*np.unique(label_list, return_counts=True)))\n",
    "# 有357个良性，212个恶性 \n",
    "print(label_list)"
   ]
  },
  {
   "cell_type": "markdown",
   "metadata": {},
   "source": [
    "### 对标记列进行one-hot编码\n",
    "- 将M--恶性 编码为1，将B-- 良性编码为0"
   ]
  },
  {
   "cell_type": "code",
   "execution_count": 12,
   "metadata": {},
   "outputs": [
    {
     "name": "stdout",
     "output_type": "stream",
     "text": [
      "(569,)\n"
     ]
    }
   ],
   "source": [
    "from sklearn.preprocessing import LabelEncoder\n",
    "coder = LabelEncoder()#实例化\n",
    "label = coder.fit_transform(label_list) #y空间\n",
    "print(label.shape)\n",
    "#将M--恶性 编码为1，将B-- 良性编码为0"
   ]
  },
  {
   "cell_type": "markdown",
   "metadata": {},
   "source": [
    "#### 将编码后的列作为属性label加入df_std(已标准化后的dataframe)\n",
    "当前，所有数据已被标准化，data就是X空间，label就是Y空间 "
   ]
  },
  {
   "cell_type": "code",
   "execution_count": 13,
   "metadata": {},
   "outputs": [],
   "source": [
    "data = df_std.values #X空间"
   ]
  },
  {
   "cell_type": "markdown",
   "metadata": {},
   "source": [
    "## 绘制混淆矩阵的函数"
   ]
  },
  {
   "cell_type": "code",
   "execution_count": 14,
   "metadata": {},
   "outputs": [],
   "source": [
    "#绘制混淆矩阵\n",
    "def confusion_matrix(matrix):\n",
    "    \"\"\"\n",
    "        传入混淆矩阵，绘制图像\n",
    "    \"\"\"\n",
    "    guess = [\"malignant\",\"benign\"]\n",
    "    fact = [ \"malignant\",\"benign\"]\n",
    "    classes = list(set(fact))\n",
    "    classes.sort(reverse=True)\n",
    "    r1=matrix\n",
    "\n",
    "    plt.figure(figsize=(8,5))       #设置plt窗口的大小\n",
    "    confusion =r1\n",
    "    print(\"confusion\",confusion)\n",
    "    plt.imshow(confusion, cmap=plt.cm.Blues)\n",
    "    indices = range(len(confusion))\n",
    "    indices2 = range(3)\n",
    "    plt.xticks(indices, classes,rotation=40,fontsize=18)\n",
    "    plt.yticks([0.00,1.00], classes,fontsize=18)\n",
    "    plt.ylim(1.5 , -0.5)   #设置y的纵坐标的上下限\n",
    "\n",
    "    plt.title(\"Confusion matrix\",fontdict={'weight':'normal','size': 18})\n",
    "    #设置color bar的标签大小\n",
    "    cb=plt.colorbar()\n",
    "    cb.ax.tick_params(labelsize=10)\n",
    "    plt.xlabel('Predict label',fontsize=18)\n",
    "    plt.ylabel('True label',fontsize=18)\n",
    "\n",
    "    print(\"len(confusion)\",len(confusion))\n",
    "    for first_index in range(len(confusion)):\n",
    "        for second_index in range(len(confusion[first_index])):\n",
    "            if confusion[first_index][second_index]>200:\n",
    "                color=\"w\"\n",
    "            else:\n",
    "                color=\"black\"\n",
    "            plt.text(first_index, second_index, confusion[first_index][second_index],fontsize=18, color = color,verticalalignment='center',horizontalalignment='center',)\n",
    "    plt.show()"
   ]
  },
  {
   "cell_type": "markdown",
   "metadata": {},
   "source": [
    "## 构建模型"
   ]
  },
  {
   "cell_type": "code",
   "execution_count": 142,
   "metadata": {},
   "outputs": [],
   "source": [
    "class NaiveBayes:\n",
    "    def __init__(self,X_train,y_train,X_test,y_test):\n",
    "        \"\"\"\n",
    "            初始化,传入训练集的数据和标签以及验证集的数据和标签\n",
    "            加入高斯参数的字典属性，初始化为空字典\n",
    "        \"\"\"\n",
    "        self.X_train = X_train#训练集数据\n",
    "        self.y_train = y_train#训练集标签向量\n",
    "        self.X_test = X_test\n",
    "        self.y_test = y_test\n",
    "        self.gaussian_and_prior_parameters = {} #储存高斯分布参数的字典\n",
    "        \n",
    "    def computer_gaussian_parameters_and_prior_prob(self):\n",
    "        \"\"\"\n",
    "            计算各类的条件概率和先验概率，通过self.gaussian_parameters带回\n",
    "            由于该数据集下所有features都为连续型数值变量，\n",
    "            因此需要使用高斯分布拟合其条件概率P(Xi|c)\n",
    "            计算不同类别下的条件概率\n",
    "        \"\"\"\n",
    "        #查找训练集中类别为M,B的行向量\n",
    "        row_index_M = np.where(y_train==1)#类别为M的行数\n",
    "        row_index_B = np.where(y_train==0)#类别为B的行数\n",
    "        #计算各类先验概率\n",
    "        prior_M = len(row_index_M[0])/self.y_train.shape[0]\n",
    "        prior_B = len(row_index_B[0])/self.y_train.shape[0]\n",
    "         #计算类别为M或B的数据每列（按属性计算）的均值和方差，返回一个30维向量,且不改变原矩阵维度\n",
    "        mean = lambda row_index: np.mean(X_train[row_index],axis=0,keepdims=True)\n",
    "        #均值\n",
    "        mean_M = mean(row_index_M)\n",
    "        mean_B = mean(row_index_B)\n",
    "        \n",
    "        var = lambda row_index: np.var(X_train[row_index],axis=0,keepdims=True)\n",
    "        #方差\n",
    "        var_M = var(row_index_M)\n",
    "        var_B = var(row_index_B)\n",
    "        \n",
    "        parameter_M = {'mean':mean_M,'var':var_M,'prior':prior_M}\n",
    "        parameter_B = {'mean':mean_B,'var':var_B,'prior':prior_B}\n",
    "        #将这些参数反馈至结构体中的parameters中\n",
    "        self.gaussian_and_prior_parameters['1'] = parameter_M\n",
    "        self.gaussian_and_prior_parameters['0'] = parameter_B\n",
    "    \n",
    "    def gaussian_distribution(self,_class):\n",
    "        \"\"\"\n",
    "            传参:_class为类别，可为1或0\n",
    "            由于需要计算测试集上每个向量在不同类别下的条件概率向量\n",
    "            而这个条件概率需要由高斯分布密度概率函数计算\n",
    "            该函数可以根据提供的类别，从self.gaussian_parameters中取出对应的参数计算\n",
    "            高斯分布概率\n",
    "            \n",
    "            返回值为\n",
    "        \"\"\"\n",
    "        #按照类别取出均值向量和方差向量\n",
    "        mean = self.gaussian_and_prior_parameters[str(_class)]['mean']\n",
    "        var = self.gaussian_and_prior_parameters[str(_class)]['var']\n",
    "        #借用numpy的广播机制，使用scalar和ndarray和matrxi混合运算得到一个向量\n",
    "        #分子 np.exp:Calculate the exponential of all elements in the input array.\n",
    "        numerator = np.exp(-(self.X_test-mean)**2/(2*var))#numpy中矩阵减向量会自动将矩阵中每行/列减去给定的行/列向量\n",
    "        #分母\n",
    "        denominator = (2*np.pi)**0.5*var\n",
    "        \n",
    "        ########\n",
    "        #一开始直接使用连乘，导致数值很小，无法处理\n",
    "        #我翻阅了sklearn中naivebayes.py的源码，发现它使用了取对数的方法，这里借鉴一下\n",
    "        ########\n",
    "        foo = np.log(numerator/denominator)#先对上面运算出的向量每个元素取对数\n",
    "        probability = np.sum(foo,axis=1)#取对数后相加,axis=1表示按行相加，因为这里我们的向量都为行向量\n",
    "        return probability\n",
    "    \n",
    "    def multiply_probability(self):\n",
    "        \"\"\"\n",
    "            对测试集进行概率相乘，得到贝叶斯分子的对数\n",
    "        \"\"\"\n",
    "        #用于接收训练集样本在不同类别下的贝叶斯公式分子的列表\n",
    "        hyp = []\n",
    "        #i设为类别指示器，取值为0，1\n",
    "        for i in range(2):\n",
    "            #print(i)\n",
    "            #计算该类别下的贝叶斯公式分子\n",
    "            #先算该类别下的先验概率\n",
    "            prior_prob = self.gaussian_and_prior_parameters[str(i)]['prior']\n",
    "            ln_prior_prob = np.log(prior_prob)#取对数\n",
    "            conditional = self.gaussian_distribution(i)#一个列向量，该类别下，训练集中所有样本的条件概率(取对数相加后的列列向量结果)\n",
    "            conditional += ln_prior_prob#本来相乘，取对数变为相加\n",
    "            #print(conditional)\n",
    "            hyp.append(conditional)\n",
    "        return hyp\n",
    "    def hypothesis(self):\n",
    "        \"\"\"\n",
    "            根据上面得出的贝叶斯分子的对数进行预测\n",
    "        \"\"\"\n",
    "        hyp = self.multiply_probability()\n",
    "        hyp = np.array(hyp)\n",
    "        #利用np.argmax从hyp两行中按列求出大的元素的标号，这个标号正是我们的类别标号\n",
    "        hyp_ = np.argmax(hyp,axis=0)#预测结果的列向量\n",
    "        return hyp_"
   ]
  },
  {
   "cell_type": "markdown",
   "metadata": {},
   "source": [
    "## 进行训练集和测试集的划分\n",
    "- 使用5折分层交叉验证"
   ]
  },
  {
   "cell_type": "code",
   "execution_count": 157,
   "metadata": {},
   "outputs": [
    {
     "name": "stdout",
     "output_type": "stream",
     "text": [
      "\n",
      "------------------第 1 轮\n",
      "模型训练完毕！参数为:\n",
      " {'1': {'mean': array([[ 1.05646172,  0.58668172,  1.06689769,  1.03895307,  0.42094674,\n",
      "         0.73816951,  0.94160394,  1.05416562,  0.34544517, -0.12767333,\n",
      "         0.79818689,  0.03769617,  0.7696847 ,  0.79247471, -0.04413874,\n",
      "         0.36781354,  0.35261257,  0.55658823, -0.0238084 ,  0.06957866,\n",
      "         1.08406715,  0.61788068,  1.08051831,  1.0359749 ,  0.47696241,\n",
      "         0.66166087,  0.82006273,  1.01200275,  0.38013331,  0.25772188]]), 'var': array([[0.82463623, 0.78191068, 0.81840268, 1.14001321, 0.77316898,\n",
      "        1.01115589, 0.94958444, 0.83984209, 0.91498048, 0.94246586,\n",
      "        1.69428802, 0.73269993, 1.72127817, 2.092663  , 1.05605245,\n",
      "        1.00773972, 0.53620792, 0.75144475, 1.45220656, 0.54115836,\n",
      "        0.78882891, 0.78874082, 0.77864786, 1.1455449 , 0.84553487,\n",
      "        0.96948687, 0.71800612, 0.48102669, 1.19947516, 1.04870035]]), 'prior': 0.3722466960352423}, '0': {'mean': array([[-0.53563597, -0.26241954, -0.54890415, -0.52708002, -0.36797032,\n",
      "        -0.49540101, -0.57540866, -0.62030424, -0.30873286, -0.06635322,\n",
      "        -0.45025131,  0.00619279, -0.43356619, -0.42376316,  0.00066203,\n",
      "        -0.26428566, -0.26473341, -0.36894735, -0.0280376 , -0.12824088,\n",
      "        -0.57794416, -0.30517419, -0.58263353, -0.55148307, -0.39368926,\n",
      "        -0.4666649 , -0.53760991, -0.6263342 , -0.34131412, -0.28395802]]), 'var': array([[0.24057859, 0.93663807, 0.22243245, 0.1421439 , 0.89592405,\n",
      "        0.39245384, 0.18752405, 0.14885365, 0.74040666, 0.79703697,\n",
      "        0.16357598, 1.20953129, 0.1512134 , 0.0382149 , 1.02470894,\n",
      "        0.72568243, 0.53227422, 0.69747237, 0.70189538, 0.8335452 ,\n",
      "        0.1585893 , 0.84463486, 0.15375872, 0.08094924, 0.75076788,\n",
      "        0.35024122, 0.35578699, 0.28328076, 0.41850059, 0.54818607]]), 'prior': 0.6277533039647577}}\n",
      "confusion [[34  3]\n",
      " [ 9 69]]\n",
      "len(confusion) 2\n"
     ]
    },
    {
     "data": {
      "image/png": "[encoded data removed]",
      "text/plain": [
       "<Figure size 576x360 with 2 Axes>"
      ]
     },
     "metadata": {
      "needs_background": "light"
     },
     "output_type": "display_data"
    },
    {
     "name": "stdout",
     "output_type": "stream",
     "text": [
      "分类正确个数: 103 总样本个数: 115 正确率: 0.8956521739130435\n",
      "\n",
      "-------------------------------------------------------\n",
      "\n",
      "\n",
      "------------------第 2 轮\n",
      "模型训练完毕！参数为:\n",
      " {'1': {'mean': array([[ 0.98307177,  0.59024805,  0.99858045,  0.96434838,  0.42663155,\n",
      "         0.77644252,  0.90296583,  1.00586982,  0.37899496, -0.02503544,\n",
      "         0.72167377, -0.04740085,  0.71895724,  0.71997062, -0.12106297,\n",
      "         0.37308402,  0.32747994,  0.53659709, -0.08649554,  0.10265439,\n",
      "         1.03935448,  0.63815425,  1.0549113 ,  0.99431341,  0.54216376,\n",
      "         0.81571622,  0.89199947,  1.06631666,  0.53135272,  0.46292436]]), 'var': array([[0.84249528, 0.83266329, 0.81144   , 1.14248327, 0.73895925,\n",
      "        0.97053619, 0.79161837, 0.72700664, 0.97871931, 1.19567709,\n",
      "        1.66709805, 0.73077128, 1.73897825, 2.05283626, 0.86348569,\n",
      "        0.98957067, 0.48281797, 0.82191463, 1.11542735, 0.59924211,\n",
      "        0.82608251, 0.83782712, 0.78902575, 1.196257  , 0.94173241,\n",
      "        1.22280594, 0.76357971, 0.50859131, 1.46073863, 1.5062496 ]]), 'prior': 0.3722466960352423}, '0': {'mean': array([[-0.56475889, -0.30537638, -0.57211375, -0.54722824, -0.2282763 ,\n",
      "        -0.41741401, -0.52272364, -0.58631103, -0.24756355,  0.07535744,\n",
      "        -0.44252253, -0.00986002, -0.42991425, -0.42580183,  0.06215458,\n",
      "        -0.20842691, -0.18067222, -0.30229397, -0.00998161, -0.02898149,\n",
      "        -0.59782917, -0.33676588, -0.6008656 , -0.56476611, -0.27943601,\n",
      "        -0.42808381, -0.49421565, -0.592871  , -0.31212595, -0.20646532]]), 'var': array([[0.26963804, 0.85902577, 0.24989525, 0.15209063, 0.95755323,\n",
      "        0.42313336, 0.32571989, 0.17482376, 0.82141008, 0.98470859,\n",
      "        0.15994928, 1.0538451 , 0.13783584, 0.03651998, 1.02896826,\n",
      "        0.82710693, 1.33153404, 0.85013722, 0.71347717, 1.33046811,\n",
      "        0.1767679 , 0.7849238 , 0.16828016, 0.08613372, 0.78402051,\n",
      "        0.32043686, 0.45186284, 0.3022572 , 0.45174221, 0.58062041]]), 'prior': 0.6277533039647577}}\n",
      "confusion [[34  0]\n",
      " [ 9 72]]\n",
      "len(confusion) 2\n"
     ]
    },
    {
     "data": {
      "image/png": "[encoded data removed]",
      "text/plain": [
       "<Figure size 576x360 with 2 Axes>"
      ]
     },
     "metadata": {
      "needs_background": "light"
     },
     "output_type": "display_data"
    },
    {
     "name": "stdout",
     "output_type": "stream",
     "text": [
      "分类正确个数: 106 总样本个数: 115 正确率: 0.9217391304347826\n",
      "\n",
      "-------------------------------------------------------\n",
      "\n",
      "\n",
      "------------------第 3 轮\n",
      "模型训练完毕！参数为:\n",
      " {'1': {'mean': array([[ 0.91676509,  0.50098984,  0.93806909,  0.88198721,  0.52359019,\n",
      "         0.80557752,  0.92477379,  1.03235334,  0.5018508 ,  0.04280024,\n",
      "         0.75515184,  0.01492156,  0.73607538,  0.70570957, -0.11862523,\n",
      "         0.36185597,  0.32181977,  0.53404068,  0.01328175,  0.09986134,\n",
      "         0.98929139,  0.56754132,  1.00560562,  0.93142352,  0.57175128,\n",
      "         0.76622103,  0.86571983,  1.03638868,  0.56494354,  0.44039637]]), 'var': array([[0.76468927, 0.68895097, 0.75132916, 0.96820452, 0.80105579,\n",
      "        1.11788609, 0.90891307, 0.7784533 , 1.01254106, 1.19075622,\n",
      "        1.33950363, 0.79111704, 1.39214109, 1.51325452, 0.60553179,\n",
      "        0.96388749, 0.44485642, 0.77757764, 1.54521013, 0.56866026,\n",
      "        0.77011448, 0.72754476, 0.7729303 , 1.08239382, 0.89520387,\n",
      "        1.22600688, 0.80038081, 0.49620857, 1.4767746 , 1.48259529]]), 'prior': 0.37280701754385964}, '0': {'mean': array([[-0.57092359, -0.26335685, -0.57894462, -0.55180646, -0.23218358,\n",
      "        -0.43757916, -0.51423394, -0.58089326, -0.23482112,  0.02290153,\n",
      "        -0.42280391,  0.0613129 , -0.41830457, -0.41660857,  0.08722036,\n",
      "        -0.21162393, -0.16481775, -0.29127309, -0.03846929, -0.04987787,\n",
      "        -0.59978724, -0.28472943, -0.60475217, -0.56607171, -0.26978966,\n",
      "        -0.43375437, -0.47187268, -0.58822735, -0.33028255, -0.22967603]]), 'var': array([[0.26341844, 0.940818  , 0.2445297 , 0.14930939, 0.94521266,\n",
      "        0.40454908, 0.30311117, 0.17155029, 0.82647881, 0.93322062,\n",
      "        0.16013498, 1.20342161, 0.14759691, 0.03622228, 1.06535157,\n",
      "        0.80543086, 1.30446523, 0.87531701, 0.62444171, 1.21089854,\n",
      "        0.17282574, 0.86424466, 0.16830324, 0.08434274, 0.79377291,\n",
      "        0.35083932, 0.47823597, 0.29711675, 0.45137396, 0.60450516]]), 'prior': 0.6271929824561403}}\n",
      "confusion [[36  1]\n",
      " [ 6 70]]\n",
      "len(confusion) 2\n"
     ]
    },
    {
     "name": "stderr",
     "output_type": "stream",
     "text": [
      "/home/ysq/anaconda3/lib/python3.7/site-packages/ipykernel_launcher.py:66: RuntimeWarning: divide by zero encountered in log\n"
     ]
    },
    {
     "data": {
      "image/png": "[encoded data removed]",
      "text/plain": [
       "<Figure size 576x360 with 2 Axes>"
      ]
     },
     "metadata": {
      "needs_background": "light"
     },
     "output_type": "display_data"
    },
    {
     "name": "stdout",
     "output_type": "stream",
     "text": [
      "分类正确个数: 106 总样本个数: 113 正确率: 0.9380530973451328\n",
      "\n",
      "-------------------------------------------------------\n",
      "\n",
      "\n",
      "------------------第 4 轮\n",
      "模型训练完毕！参数为:\n",
      " {'1': {'mean': array([[ 0.89556426,  0.53641601,  0.91522791,  0.86352731,  0.48686045,\n",
      "         0.79488889,  0.90721899,  0.98459199,  0.45919919,  0.03259349,\n",
      "         0.70567169, -0.02422984,  0.69989446,  0.68412071, -0.06043464,\n",
      "         0.42729473,  0.35341061,  0.54156053,  0.00463746,  0.14384085,\n",
      "         0.9566698 ,  0.57658394,  0.96797735,  0.89120764,  0.5623704 ,\n",
      "         0.8173502 ,  0.89041015,  1.02723302,  0.58691681,  0.49691398]]), 'var': array([[0.83777471, 0.7493515 , 0.82362879, 1.11252513, 0.82071602,\n",
      "        1.0168573 , 0.89680184, 0.774818  , 1.04293509, 1.14442089,\n",
      "        1.63224921, 0.78537769, 1.7093017 , 1.96887895, 1.04559961,\n",
      "        1.12378061, 0.53895483, 0.84898282, 1.54373904, 0.63342235,\n",
      "        0.73371013, 0.72281687, 0.71844395, 0.99951894, 0.91714826,\n",
      "        1.18910211, 0.78978486, 0.48687847, 1.51274766, 1.52039427]]), 'prior': 0.37280701754385964}, '0': {'mean': array([[-0.57308746, -0.37966952, -0.58200076, -0.55375159, -0.21906525,\n",
      "        -0.4437258 , -0.52952797, -0.59012372, -0.24514844,  0.05867373,\n",
      "        -0.43975079, -0.01765293, -0.43675848, -0.42622232,  0.0842552 ,\n",
      "        -0.22152869, -0.18395033, -0.28964249,  0.05951963, -0.03524113,\n",
      "        -0.61148306, -0.42516227, -0.61834326, -0.57419745, -0.29175359,\n",
      "        -0.46735656, -0.52118013, -0.61629008, -0.31295646, -0.24084833]]), 'var': array([[0.26691247, 0.80613396, 0.24626642, 0.15153786, 0.98021065,\n",
      "        0.4408752 , 0.33427609, 0.17985435, 0.84817575, 1.01232904,\n",
      "        0.16627168, 1.12151587, 0.14536477, 0.03888642, 1.09696323,\n",
      "        0.89971107, 1.38686576, 0.96838775, 0.78521134, 1.40286206,\n",
      "        0.17660085, 0.74028467, 0.16894633, 0.08618275, 0.81320227,\n",
      "        0.34227827, 0.4736863 , 0.30792045, 0.48199441, 0.62270034]]), 'prior': 0.6271929824561403}}\n",
      "confusion [[37  1]\n",
      " [ 5 70]]\n",
      "len(confusion) 2\n"
     ]
    },
    {
     "data": {
      "image/png": "[encoded data removed]",
      "text/plain": [
       "<Figure size 576x360 with 2 Axes>"
      ]
     },
     "metadata": {
      "needs_background": "light"
     },
     "output_type": "display_data"
    },
    {
     "name": "stdout",
     "output_type": "stream",
     "text": [
      "分类正确个数: 107 总样本个数: 113 正确率: 0.9469026548672567\n",
      "\n",
      "-------------------------------------------------------\n",
      "\n",
      "\n",
      "------------------第 5 轮\n",
      "模型训练完毕！参数为:\n",
      " {'1': {'mean': array([[ 0.88569059,  0.48012837,  0.90053755,  0.8522998 ,  0.46795556,\n",
      "         0.75526023,  0.84190212,  0.9622453 ,  0.45812538, -0.00668248,\n",
      "         0.6993768 , -0.03479253,  0.6841059 ,  0.65541366, -0.09051233,\n",
      "         0.37092684,  0.29109881,  0.4789476 ,  0.04951983,  0.08980208,\n",
      "         0.96918002,  0.56481129,  0.97143951,  0.9091549 ,  0.58093619,\n",
      "         0.77333981,  0.81160941,  1.00712585,  0.63673493,  0.44274339]]), 'var': array([[0.83071969, 0.78720348, 0.80917141, 1.06163494, 0.8647411 ,\n",
      "        1.08931507, 0.86186364, 0.78664585, 1.10045459, 1.24323887,\n",
      "        1.37929146, 0.77901777, 1.4808743 , 1.43334894, 1.04497078,\n",
      "        1.16699296, 0.5478747 , 0.7824167 , 1.7212491 , 0.62169254,\n",
      "        0.78608123, 0.81697753, 0.76214077, 1.06116251, 0.96692787,\n",
      "        1.22122425, 0.6956934 , 0.49926518, 1.57593057, 1.50449184]]), 'prior': 0.37280701754385964}, '0': {'mean': array([[-0.56833866, -0.38865233, -0.57936084, -0.55181442, -0.33420397,\n",
      "        -0.5043268 , -0.54129654, -0.61472793, -0.23732317, -0.04115335,\n",
      "        -0.42992769, -0.00805721, -0.42431261, -0.41999676,  0.02378189,\n",
      "        -0.22314733, -0.18364797, -0.32019576,  0.04192938, -0.05821924,\n",
      "        -0.60459286, -0.40841669, -0.60992616, -0.57088937, -0.38933596,\n",
      "        -0.48122552, -0.51668119, -0.63390768, -0.3073621 , -0.28691515]]), 'var': array([[0.23354509, 0.7521699 , 0.21551686, 0.1317403 , 0.76737356,\n",
      "        0.37298444, 0.33004488, 0.16319045, 0.84932061, 0.81904176,\n",
      "        0.1726189 , 1.10509461, 0.14439946, 0.03884658, 0.96804104,\n",
      "        0.90384294, 1.37671582, 0.87914103, 0.74752397, 1.3734478 ,\n",
      "        0.15398577, 0.74139108, 0.14943347, 0.07449944, 0.68074039,\n",
      "        0.34847355, 0.49857712, 0.28912597, 0.46944918, 0.55659995]]), 'prior': 0.6271929824561403}}\n",
      "confusion [[37  1]\n",
      " [ 5 70]]\n",
      "len(confusion) 2\n"
     ]
    },
    {
     "data": {
      "image/png": "[encoded data removed]",
      "text/plain": [
       "<Figure size 576x360 with 2 Axes>"
      ]
     },
     "metadata": {
      "needs_background": "light"
     },
     "output_type": "display_data"
    },
    {
     "name": "stdout",
     "output_type": "stream",
     "text": [
      "分类正确个数: 107 总样本个数: 113 正确率: 0.9469026548672567\n",
      "\n",
      "-------------------------------------------------------\n",
      "\n"
     ]
    }
   ],
   "source": [
    "from sklearn.model_selection import StratifiedKFold #分层交叉验证\n",
    "kfold = StratifiedKFold(n_splits=5)#实例化\n",
    "\n",
    "count = 1 #共5折，表示当前为第几折\n",
    "\n",
    "#接收每折分类准确率的列表\n",
    "accuracy = []\n",
    "\n",
    "#统计TP,FP,TN,FN的列表\n",
    "statistic_list = []\n",
    "\n",
    "for train_index,test_index in kfold.split(data,label):\n",
    "    #print(\"Train Index:\",train_index,\",Test Index:\",test_index)\n",
    "    print(\"\\n------------------第\",count,\"轮\")\n",
    "    \n",
    "    #划分训练集测试集\n",
    "    X_train,X_test=data[train_index],data[test_index]#划分X空间\n",
    "    y_train,y_test=label[train_index],label[test_index]\n",
    "    \n",
    "    #进行模型训练 Training\n",
    "    model = NaiveBayes(X_train,y_train,X_test,y_test)\n",
    "    model.computer_gaussian_parameters_and_prior_prob()#计算模型的参数\n",
    "    print(\"模型训练完毕！参数为:\\n\",model.gaussian_and_prior_parameters)\n",
    "    #验证\n",
    "    hypothesis_vector = model.hypothesis()#预测\n",
    "    \n",
    "    #对结果进行评价\n",
    "    correct = 0 #用correct统计被分类正确样本的个数\n",
    "    \n",
    "    #统计用于绘制混淆矩阵的信息\n",
    "    malignat_malignat = 0 #本来是恶性分类为恶性的样本个数  TP\n",
    "    malignat_benign = 0#本来是恶性分类为良性的样本个数 FN\n",
    "    benign_malignat = 0#本来是良性分类为恶性的样本个数 FP\n",
    "    benign_benign = 0#本来是良性分类为良性的样本个数 TN\n",
    "    \n",
    "    for i in range(y_test.shape[0]):\n",
    "        #检查真值\n",
    "        #判断混淆矩阵中的计数器谁该增加\n",
    "        if y_test[i] == 1 and hypothesis_vector[i] == 1:\n",
    "            malignat_malignat += 1\n",
    "        if y_test[i] == 1 and hypothesis_vector[i] == 0:\n",
    "            malignat_benign += 1\n",
    "        if y_test[i] == 0 and hypothesis_vector[i] == 1:\n",
    "            benign_malignat += 1\n",
    "        if y_test[i] == 0 and hypothesis_vector[i] == 0:\n",
    "            benign_benign += 1\n",
    "    #绘制混淆矩阵\n",
    "    conf_matrix = np.array([[malignat_malignat,benign_malignat],[malignat_benign,benign_benign]])\n",
    "    confusion_matrix(conf_matrix)  \n",
    "    #精度\n",
    "    correct = malignat_malignat+benign_benign\n",
    "    acc = (malignat_malignat+benign_benign)/y_test.shape[0]\n",
    "    accuracy.append(acc)\n",
    "    \n",
    "    #输出TP,FP,TN,FN\n",
    "    foo = np.array([malignat_malignat,benign_malignat,benign_benign,malignat_benign])\n",
    "    statistic_list.append(foo)\n",
    "    \n",
    "    print(\"分类正确个数:\",correct,\"总样本个数:\",X_test.shape[0],\"正确率:\",acc)\n",
    "    print(\"\\n-------------------------------------------------------\\n\")\n",
    "    count = count + 1\n",
    "    "
   ]
  },
  {
   "cell_type": "markdown",
   "metadata": {},
   "source": [
    "## 查看模型分类的准确率"
   ]
  },
  {
   "cell_type": "code",
   "execution_count": 156,
   "metadata": {},
   "outputs": [
    {
     "name": "stdout",
     "output_type": "stream",
     "text": [
      "模型准确率向量 [0.8956521739130435, 0.9217391304347826, 0.9380530973451328, 0.9469026548672567, 0.9469026548672567]\n",
      "整体准确率 0.9298499422854946\n"
     ]
    }
   ],
   "source": [
    "print(\"模型准确率向量\",accuracy)\n",
    "overall = np.mean(accuracy)\n",
    "print(\"整体准确率\",overall)"
   ]
  },
  {
   "cell_type": "markdown",
   "metadata": {},
   "source": [
    "## 计算模型的召回率(灵敏度)、特效性"
   ]
  },
  {
   "cell_type": "code",
   "execution_count": 159,
   "metadata": {},
   "outputs": [
    {
     "name": "stdout",
     "output_type": "stream",
     "text": [
      "recall: 0.7906976744186046  specificity: 0.9583333333333334\n",
      "recall: 0.7906976744186046  specificity: 1.0\n",
      "recall: 0.8571428571428571  specificity: 0.9859154929577465\n",
      "recall: 0.8809523809523809  specificity: 0.9859154929577465\n",
      "recall: 0.8809523809523809  specificity: 0.9859154929577465\n"
     ]
    }
   ],
   "source": [
    "#根据statistic_list中的数据计算\n",
    "for item in statistic_list:\n",
    "    #item的顺序: TP,FP,TN,FN\n",
    "    recall = item[0]/(item[0]+item[-1]) #TP/(TP+FN)\n",
    "    specificity = item[2]/(item[1]+item[2])\n",
    "    print(\"recall:\",recall,\" specificity:\",specificity)"
   ]
  }
 ],
 "metadata": {
  "kernelspec": {
   "display_name": "Python 3",
   "language": "python",
   "name": "python3"
  },
  "language_info": {
   "codemirror_mode": {
    "name": "ipython",
    "version": 3
   },
   "file_extension": ".py",
   "mimetype": "text/x-python",
   "name": "python",
   "nbconvert_exporter": "python",
   "pygments_lexer": "ipython3",
   "version": "3.7.0"
  }
 },
 "nbformat": 4,
 "nbformat_minor": 2
}
